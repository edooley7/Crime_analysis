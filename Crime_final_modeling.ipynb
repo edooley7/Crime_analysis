{
 "cells": [
  {
   "cell_type": "code",
   "execution_count": 55,
   "metadata": {
    "collapsed": false
   },
   "outputs": [],
   "source": [
    "import pandas as pd\n",
    "import numpy as np\n",
    "import matplotlib.pyplot as plt\n",
    "import seaborn as sns\n",
    "from patsy import dmatrices\n",
    "pd.options.mode.chained_assignment = None\n",
    "\n",
    "from sklearn import preprocessing\n",
    "\n",
    "from sklearn.metrics import accuracy_score, roc_curve, auc, classification_report, confusion_matrix\n",
    "\n",
    "from sklearn.cross_validation import cross_val_score, train_test_split\n",
    "from sklearn.learning_curve import learning_curve\n",
    "from sklearn.grid_search import GridSearchCV\n",
    "\n",
    "from sklearn.linear_model import LogisticRegression\n",
    "from sklearn.neighbors import KNeighborsClassifier\n",
    "from sklearn.naive_bayes import GaussianNB\n",
    "from sklearn.svm import SVC\n",
    "from sklearn.tree import DecisionTreeClassifier\n",
    "from sklearn.ensemble import RandomForestClassifier\n",
    "\n",
    "import pprint\n",
    "\n",
    "%matplotlib inline"
   ]
  },
  {
   "cell_type": "code",
   "execution_count": 56,
   "metadata": {
    "collapsed": false
   },
   "outputs": [],
   "source": [
    "df = pd.read_csv(\"3355.csv\")"
   ]
  },
  {
   "cell_type": "markdown",
   "metadata": {},
   "source": [
    "###Condensing dataframe down to features to explore"
   ]
  },
  {
   "cell_type": "code",
   "execution_count": 57,
   "metadata": {
    "collapsed": false
   },
   "outputs": [
    {
     "data": {
      "text/html": [
       "<div>\n",
       "<table border=\"1\" class=\"dataframe\">\n",
       "  <thead>\n",
       "    <tr style=\"text-align: right;\">\n",
       "      <th></th>\n",
       "      <th>CASENUM</th>\n",
       "      <th>YEAROB1</th>\n",
       "      <th>SEX</th>\n",
       "      <th>RACE</th>\n",
       "      <th>ETHNIC</th>\n",
       "      <th>ADTYP</th>\n",
       "      <th>RELTYP</th>\n",
       "      <th>NFRCTNS</th>\n",
       "      <th>DRUGTRT</th>\n",
       "      <th>ALCTRT</th>\n",
       "      <th>...</th>\n",
       "      <th>J001FM1</th>\n",
       "      <th>J001CNV1</th>\n",
       "      <th>J001CNF1</th>\n",
       "      <th>J001PJP1</th>\n",
       "      <th>J001PMX1</th>\n",
       "      <th>J001PRB1</th>\n",
       "      <th>REARR</th>\n",
       "      <th>ROTST</th>\n",
       "      <th>PRIR</th>\n",
       "      <th>POTST</th>\n",
       "    </tr>\n",
       "  </thead>\n",
       "  <tbody>\n",
       "    <tr>\n",
       "      <th>0</th>\n",
       "      <td>1</td>\n",
       "      <td>1932</td>\n",
       "      <td>MALE</td>\n",
       "      <td>WHITE</td>\n",
       "      <td>HISPANIC</td>\n",
       "      <td>MANDATORY PAROLE RELEASE REVOCATION, NO NEW SE...</td>\n",
       "      <td>OTHER UNCONDITIONAL RELEASE</td>\n",
       "      <td>INMATE HAS RECORD</td>\n",
       "      <td>UNKNOWN</td>\n",
       "      <td>UNKNOWN</td>\n",
       "      <td>...</td>\n",
       "      <td>MISDEMEANOR</td>\n",
       "      <td>CONVICTED</td>\n",
       "      <td>CONFINED</td>\n",
       "      <td>JAIL</td>\n",
       "      <td>0.66</td>\n",
       "      <td>99899899.9</td>\n",
       "      <td>4</td>\n",
       "      <td>0</td>\n",
       "      <td>93</td>\n",
       "      <td>0</td>\n",
       "    </tr>\n",
       "    <tr>\n",
       "      <th>1</th>\n",
       "      <td>2</td>\n",
       "      <td>1929</td>\n",
       "      <td>MALE</td>\n",
       "      <td>WHITE</td>\n",
       "      <td>HISPANIC</td>\n",
       "      <td>COURT COMMITMENT</td>\n",
       "      <td>OTHER CONDITIONAL RELEASE</td>\n",
       "      <td>NO RECORD</td>\n",
       "      <td>UNKNOWN</td>\n",
       "      <td>UNKNOWN</td>\n",
       "      <td>...</td>\n",
       "      <td>NOT APPLICABLE</td>\n",
       "      <td>NOT APPLICABLE</td>\n",
       "      <td>NOT APPLICABLE</td>\n",
       "      <td>NOT APPLICABLE</td>\n",
       "      <td>99899899.90</td>\n",
       "      <td>99899899.9</td>\n",
       "      <td>1</td>\n",
       "      <td>0</td>\n",
       "      <td>30</td>\n",
       "      <td>0</td>\n",
       "    </tr>\n",
       "    <tr>\n",
       "      <th>2</th>\n",
       "      <td>3</td>\n",
       "      <td>1934</td>\n",
       "      <td>MALE</td>\n",
       "      <td>WHITE</td>\n",
       "      <td>HISPANIC</td>\n",
       "      <td>COURT COMMITMENT</td>\n",
       "      <td>PAROLE BOARD DECISION-SERVED NO MINIMUM</td>\n",
       "      <td>INMATE HAS RECORD</td>\n",
       "      <td>UNKNOWN</td>\n",
       "      <td>UNKNOWN</td>\n",
       "      <td>...</td>\n",
       "      <td>FELONY</td>\n",
       "      <td>CONVICTED</td>\n",
       "      <td>CONFINED</td>\n",
       "      <td>PRISON</td>\n",
       "      <td>60.00</td>\n",
       "      <td>1000000.0</td>\n",
       "      <td>1</td>\n",
       "      <td>0</td>\n",
       "      <td>9</td>\n",
       "      <td>6</td>\n",
       "    </tr>\n",
       "    <tr>\n",
       "      <th>3</th>\n",
       "      <td>4</td>\n",
       "      <td>1931</td>\n",
       "      <td>MALE</td>\n",
       "      <td>BLACK</td>\n",
       "      <td>NON-HISPANIC</td>\n",
       "      <td>MANDATORY PAROLE RELEASE REVOCATION, NO NEW SE...</td>\n",
       "      <td>OTHER UNCONDITIONAL RELEASE</td>\n",
       "      <td>NO RECORD</td>\n",
       "      <td>UNKNOWN</td>\n",
       "      <td>UNKNOWN</td>\n",
       "      <td>...</td>\n",
       "      <td>UNKNOWN</td>\n",
       "      <td>UNKNOWN</td>\n",
       "      <td>UNKNOWN</td>\n",
       "      <td>UNKNOWN</td>\n",
       "      <td>1000000.00</td>\n",
       "      <td>1000000.0</td>\n",
       "      <td>888</td>\n",
       "      <td>888</td>\n",
       "      <td>888</td>\n",
       "      <td>888</td>\n",
       "    </tr>\n",
       "    <tr>\n",
       "      <th>4</th>\n",
       "      <td>5</td>\n",
       "      <td>1942</td>\n",
       "      <td>MALE</td>\n",
       "      <td>WHITE</td>\n",
       "      <td>NON-HISPANIC</td>\n",
       "      <td>MANDATORY PAROLE RELEASE REVOCATION, NO NEW SE...</td>\n",
       "      <td>EXPIRATION OF SENTENCE</td>\n",
       "      <td>NO RECORD</td>\n",
       "      <td>UNKNOWN</td>\n",
       "      <td>UNKNOWN</td>\n",
       "      <td>...</td>\n",
       "      <td>NOT APPLICABLE</td>\n",
       "      <td>NOT APPLICABLE</td>\n",
       "      <td>NOT APPLICABLE</td>\n",
       "      <td>NOT APPLICABLE</td>\n",
       "      <td>99899899.90</td>\n",
       "      <td>99899899.9</td>\n",
       "      <td>1</td>\n",
       "      <td>0</td>\n",
       "      <td>3</td>\n",
       "      <td>0</td>\n",
       "    </tr>\n",
       "  </tbody>\n",
       "</table>\n",
       "<p>5 rows × 38 columns</p>\n",
       "</div>"
      ],
      "text/plain": [
       "   CASENUM  YEAROB1   SEX   RACE        ETHNIC  \\\n",
       "0        1     1932  MALE  WHITE      HISPANIC   \n",
       "1        2     1929  MALE  WHITE      HISPANIC   \n",
       "2        3     1934  MALE  WHITE      HISPANIC   \n",
       "3        4     1931  MALE  BLACK  NON-HISPANIC   \n",
       "4        5     1942  MALE  WHITE  NON-HISPANIC   \n",
       "\n",
       "                                               ADTYP  \\\n",
       "0  MANDATORY PAROLE RELEASE REVOCATION, NO NEW SE...   \n",
       "1                                   COURT COMMITMENT   \n",
       "2                                   COURT COMMITMENT   \n",
       "3  MANDATORY PAROLE RELEASE REVOCATION, NO NEW SE...   \n",
       "4  MANDATORY PAROLE RELEASE REVOCATION, NO NEW SE...   \n",
       "\n",
       "                                    RELTYP            NFRCTNS  DRUGTRT  \\\n",
       "0              OTHER UNCONDITIONAL RELEASE  INMATE HAS RECORD  UNKNOWN   \n",
       "1                OTHER CONDITIONAL RELEASE          NO RECORD  UNKNOWN   \n",
       "2  PAROLE BOARD DECISION-SERVED NO MINIMUM  INMATE HAS RECORD  UNKNOWN   \n",
       "3              OTHER UNCONDITIONAL RELEASE          NO RECORD  UNKNOWN   \n",
       "4                   EXPIRATION OF SENTENCE          NO RECORD  UNKNOWN   \n",
       "\n",
       "    ALCTRT  ...           J001FM1        J001CNV1        J001CNF1  \\\n",
       "0  UNKNOWN  ...       MISDEMEANOR       CONVICTED        CONFINED   \n",
       "1  UNKNOWN  ...    NOT APPLICABLE  NOT APPLICABLE  NOT APPLICABLE   \n",
       "2  UNKNOWN  ...            FELONY       CONVICTED        CONFINED   \n",
       "3  UNKNOWN  ...           UNKNOWN         UNKNOWN         UNKNOWN   \n",
       "4  UNKNOWN  ...    NOT APPLICABLE  NOT APPLICABLE  NOT APPLICABLE   \n",
       "\n",
       "         J001PJP1     J001PMX1    J001PRB1  REARR  ROTST  PRIR  POTST  \n",
       "0            JAIL         0.66  99899899.9      4      0    93      0  \n",
       "1  NOT APPLICABLE  99899899.90  99899899.9      1      0    30      0  \n",
       "2          PRISON        60.00   1000000.0      1      0     9      6  \n",
       "3         UNKNOWN   1000000.00   1000000.0    888    888   888    888  \n",
       "4  NOT APPLICABLE  99899899.90  99899899.9      1      0     3      0  \n",
       "\n",
       "[5 rows x 38 columns]"
      ]
     },
     "execution_count": 57,
     "metadata": {},
     "output_type": "execute_result"
    }
   ],
   "source": [
    "df2 = df[[\n",
    "'CASENUM','YEAROB1','SEX','RACE','ETHNIC', \n",
    "'ADTYP','RELTYP','NFRCTNS',\n",
    "'DRUGTRT','ALCTRT','SEXTRT','EDUCAT','VOCAT',\n",
    "'SMPOFF5','RELAGE','SNTLN','TMSRV','PCTSRV',\n",
    "'A001CNT', 'A001YR','A001MO','A001ST','A001FM1', 'A001OFF1',\n",
    "'J001MO', 'J001YR', 'J001CNT', 'J001OFF1', 'J001FM1', 'J001CNV1', 'J001CNF1', 'J001PJP1', 'J001PMX1', 'J001PRB1',\n",
    "'REARR','ROTST','PRIR','POTST']]\n",
    "df2.head()"
   ]
  },
  {
   "cell_type": "markdown",
   "metadata": {},
   "source": [
    "###Replacing unknown numeric values with nan (for now)"
   ]
  },
  {
   "cell_type": "code",
   "execution_count": 58,
   "metadata": {
    "collapsed": true
   },
   "outputs": [],
   "source": [
    "df2['YEAROB1'] = df2['YEAROB1'].replace(9999,np.nan)\n",
    "df2['A001YR'] = df2['A001YR'].replace(9999,np.nan)\n",
    "df2['A001YR'] = df2['A001YR'].replace(9998,np.nan)\n",
    "df2['REARR'] = df2['REARR'].replace(888,np.nan)\n",
    "df2['ROTST'] = df2['ROTST'].replace(888,np.nan)\n",
    "df2['PRIR'] = df2['PRIR'].replace(888,np.nan)\n",
    "df2['POTST'] = df2['POTST'].replace(888,np.nan)\n",
    "df2['RELAGE'] = df2['RELAGE'].replace(99999999.99,np.nan)\n",
    "df2['RELAGE'] = df2['RELAGE'].replace(100000000.00,np.nan)\n",
    "df2['TMSRV'] = df2['TMSRV'].replace(99899899.88,np.nan)\n",
    "df2['TMSRV'] = df2['TMSRV'].replace(998999.00,np.nan)\n",
    "df2['SNTLN'] = df2['SNTLN'].replace(99899899.88,np.nan)\n",
    "df2['SNTLN'] = df2['SNTLN'].replace(998999.00,np.nan)\n",
    "df2['PCTSRV'] = df2['PCTSRV'].replace(99899899.88,np.nan)\n",
    "df2['PCTSRV'] = df2['PCTSRV'].replace(998999.00,np.nan)\n",
    "df2['A001CNT'] = df2['A001CNT'].replace(99,np.nan)\n",
    "df2['A001CNT'] = df2['A001CNT'].replace(98,np.nan)\n",
    "df2['J001YR'] = df2['J001YR'].replace(9999,np.nan)"
   ]
  },
  {
   "cell_type": "markdown",
   "metadata": {},
   "source": [
    "###Adding calculated features"
   ]
  },
  {
   "cell_type": "code",
   "execution_count": 59,
   "metadata": {
    "collapsed": true
   },
   "outputs": [],
   "source": [
    "df2['AGE_FIRST_OFF'] = df2.A001YR - df2.YEAROB1\n",
    "df2['AGE_FIRST_OFF'][df2['AGE_FIRST_OFF'] < 16] = np.nan\n",
    "df2['TOT_PRARR'] = (df2['PRIR'] + df2['POTST'])\n",
    "df2['CAREER_LEN'] = df2.RELAGE-df2.AGE_FIRST_OFF\n",
    "df2['SNTLN_YRS'] = df2.SNTLN/12\n",
    "df2['TOTREARR'] = df2.REARR + df2.ROTST\n",
    "df2['AVG_YRLY_ARR'] = df2.TOT_PRARR/df2.CAREER_LEN\n",
    "df2['AVG_YRLY_ARR'][df2['AVG_YRLY_ARR'] < 0] = np.nan\n",
    "df2['AVG_YRLY_ARR'][df2['AVG_YRLY_ARR'] > 100] = 0\n",
    "df2['RESP'] = 0\n",
    "df2['RESP'][df2['TOTREARR'] > 0] = 1"
   ]
  },
  {
   "cell_type": "code",
   "execution_count": 60,
   "metadata": {
    "collapsed": false
   },
   "outputs": [],
   "source": [
    "treatments = ['DRUGTRT', 'ALCTRT', 'SEXTRT', 'EDUCAT', 'VOCAT']\n",
    "\n",
    "for x in treatments:\n",
    "    df2[x] = df2[x].replace('UNKNOWN',0)\n",
    "    df2[x] = df2[x].replace('INMATE DID NOT PARTICIPATE',0)\n",
    "    df2[x] = df2[x].replace('INMATE PARTICIPATED BUT UNKNOWN IF COMPLETED',1)\n",
    "    df2[x] = df2[x].replace('INMATE PARTICIPATED IN PROGRAM & COMPLETED IT',1)\n",
    "    df2[x] = df2[x].replace('INMATE PARTICIPATED BUT DID NOT COMPLETE',1)\n",
    "\n",
    "df2['TREATMENT'] = df2.DRUGTRT + df2.ALCTRT + df2.SEXTRT + df2.EDUCAT + df2.VOCAT\n",
    "for x in treatments:\n",
    "    df2.drop(x, axis=1, inplace=True)\n",
    "df2['TREATMENT'][df2['TREATMENT'] > 0] = 1"
   ]
  },
  {
   "cell_type": "markdown",
   "metadata": {},
   "source": [
    "###Counting nan percentage"
   ]
  },
  {
   "cell_type": "code",
   "execution_count": 61,
   "metadata": {
    "collapsed": false
   },
   "outputs": [],
   "source": [
    "features = df2.columns.values.tolist()"
   ]
  },
  {
   "cell_type": "code",
   "execution_count": 62,
   "metadata": {
    "collapsed": false
   },
   "outputs": [
    {
     "name": "stdout",
     "output_type": "stream",
     "text": [
      "YEAROB1 has 0.03 percent missing values\n",
      "RELAGE has 0.13 percent missing values\n",
      "TMSRV has 12.50 percent missing values\n",
      "PCTSRV has 18.14 percent missing values\n",
      "A001CNT has 3.18 percent missing values\n",
      "A001YR has 2.55 percent missing values\n",
      "J001YR has 15.24 percent missing values\n",
      "REARR has 2.53 percent missing values\n",
      "ROTST has 18.88 percent missing values\n",
      "PRIR has 12.50 percent missing values\n",
      "POTST has 12.50 percent missing values\n",
      "AGE_FIRST_OFF has 5.48 percent missing values\n",
      "TOT_PRARR has 12.50 percent missing values\n",
      "CAREER_LEN has 5.48 percent missing values\n",
      "TOTREARR has 18.88 percent missing values\n",
      "AVG_YRLY_ARR has 16.11 percent missing values\n"
     ]
    }
   ],
   "source": [
    "for feature in features:\n",
    "    per = float(float(len(df2[feature]) - df2[feature].count())/len(df2[feature]))\n",
    "    if per > 0.0:\n",
    "        print feature, \"has %0.2f percent missing values\" % (per*100)"
   ]
  },
  {
   "cell_type": "markdown",
   "metadata": {},
   "source": [
    "###Cleaning up missing data"
   ]
  },
  {
   "cell_type": "code",
   "execution_count": 63,
   "metadata": {
    "collapsed": false
   },
   "outputs": [],
   "source": [
    "#Hard coded the mode of the ROTST & POTST column\n",
    "df2['ROTST']= df2.ROTST.replace(np.nan,0)\n",
    "df2['POTST']= df2.POTST.replace(np.nan,0)"
   ]
  },
  {
   "cell_type": "code",
   "execution_count": 64,
   "metadata": {
    "collapsed": false
   },
   "outputs": [],
   "source": [
    "df2['PRIR'] = df2.PRIR.replace(np.nan,df2.PRIR.mean())\n",
    "df2['REARR'] = df2.REARR.replace(np.nan,df2.REARR.mean())\n",
    "df2['PCTSRV'] = df2.PCTSRV.replace(np.nan,df2.PCTSRV.mean())\n",
    "df2['TMSRV'] = df2.TMSRV.replace(np.nan,df2.TMSRV.mean())"
   ]
  },
  {
   "cell_type": "markdown",
   "metadata": {},
   "source": [
    "###Recalculate features with cleaned data"
   ]
  },
  {
   "cell_type": "code",
   "execution_count": 65,
   "metadata": {
    "collapsed": false
   },
   "outputs": [],
   "source": [
    "df2['AGE_FIRST_OFF'] = df2.A001YR - df2.YEAROB1\n",
    "df2['AGE_FIRST_OFF'][df2['AGE_FIRST_OFF'] < 16] = np.nan\n",
    "df2['TOT_PRARR'] = (df2['PRIR'] + df2['POTST'])\n",
    "df2['CAREER_LEN'] = df2.RELAGE-df2.AGE_FIRST_OFF\n",
    "df2['SNTLN_YRS'] = df2.SNTLN/12\n",
    "df2['TOTREARR'] = df2.REARR + df2.ROTST\n",
    "df2['AVG_YRLY_ARR'] = df2.TOT_PRARR/df2.CAREER_LEN\n",
    "df2['AVG_YRLY_ARR'][df2['AVG_YRLY_ARR'] < 0] = np.nan\n",
    "df2['AVG_YRLY_ARR'][df2['AVG_YRLY_ARR'] > 100] = 0\n",
    "df2['RESP'] = 0\n",
    "df2['RESP'][df2['TOTREARR'] > 0] = 1"
   ]
  },
  {
   "cell_type": "markdown",
   "metadata": {},
   "source": [
    "###Recheck for missing values"
   ]
  },
  {
   "cell_type": "code",
   "execution_count": 66,
   "metadata": {
    "collapsed": false
   },
   "outputs": [
    {
     "name": "stdout",
     "output_type": "stream",
     "text": [
      "YEAROB1 has 0.03 percent missing values\n",
      "RELAGE has 0.13 percent missing values\n",
      "A001CNT has 3.18 percent missing values\n",
      "A001YR has 2.55 percent missing values\n",
      "J001YR has 15.24 percent missing values\n",
      "AGE_FIRST_OFF has 5.48 percent missing values\n",
      "CAREER_LEN has 5.48 percent missing values\n",
      "AVG_YRLY_ARR has 6.32 percent missing values\n"
     ]
    }
   ],
   "source": [
    "for feature in features:\n",
    "    per = float(float(len(df2[feature]) - df2[feature].count())/len(df2[feature]))\n",
    "    if per > 0.0:\n",
    "        print feature, \"has %0.2f percent missing values\" % (per*100)"
   ]
  },
  {
   "cell_type": "markdown",
   "metadata": {},
   "source": [
    "###Look at means for each group to be classified"
   ]
  },
  {
   "cell_type": "code",
   "execution_count": 67,
   "metadata": {
    "collapsed": false
   },
   "outputs": [
    {
     "data": {
      "text/html": [
       "<div>\n",
       "<table border=\"1\" class=\"dataframe\">\n",
       "  <thead>\n",
       "    <tr style=\"text-align: right;\">\n",
       "      <th></th>\n",
       "      <th>CASENUM</th>\n",
       "      <th>YEAROB1</th>\n",
       "      <th>RELAGE</th>\n",
       "      <th>SNTLN</th>\n",
       "      <th>TMSRV</th>\n",
       "      <th>PCTSRV</th>\n",
       "      <th>A001CNT</th>\n",
       "      <th>A001YR</th>\n",
       "      <th>J001YR</th>\n",
       "      <th>J001CNT</th>\n",
       "      <th>...</th>\n",
       "      <th>ROTST</th>\n",
       "      <th>PRIR</th>\n",
       "      <th>POTST</th>\n",
       "      <th>AGE_FIRST_OFF</th>\n",
       "      <th>TOT_PRARR</th>\n",
       "      <th>CAREER_LEN</th>\n",
       "      <th>SNTLN_YRS</th>\n",
       "      <th>TOTREARR</th>\n",
       "      <th>AVG_YRLY_ARR</th>\n",
       "      <th>TREATMENT</th>\n",
       "    </tr>\n",
       "    <tr>\n",
       "      <th>RESP</th>\n",
       "      <th></th>\n",
       "      <th></th>\n",
       "      <th></th>\n",
       "      <th></th>\n",
       "      <th></th>\n",
       "      <th></th>\n",
       "      <th></th>\n",
       "      <th></th>\n",
       "      <th></th>\n",
       "      <th></th>\n",
       "      <th></th>\n",
       "      <th></th>\n",
       "      <th></th>\n",
       "      <th></th>\n",
       "      <th></th>\n",
       "      <th></th>\n",
       "      <th></th>\n",
       "      <th></th>\n",
       "      <th></th>\n",
       "      <th></th>\n",
       "      <th></th>\n",
       "    </tr>\n",
       "  </thead>\n",
       "  <tbody>\n",
       "    <tr>\n",
       "      <th>0</th>\n",
       "      <td>1646.699693</td>\n",
       "      <td>1958.202407</td>\n",
       "      <td>35.834532</td>\n",
       "      <td>71.708477</td>\n",
       "      <td>30.69262</td>\n",
       "      <td>7.189998e+07</td>\n",
       "      <td>1.512116</td>\n",
       "      <td>1983.049657</td>\n",
       "      <td>4991.074572</td>\n",
       "      <td>33.182199</td>\n",
       "      <td>...</td>\n",
       "      <td>0.000000</td>\n",
       "      <td>4.886224</td>\n",
       "      <td>0.792492</td>\n",
       "      <td>25.061670</td>\n",
       "      <td>5.678716</td>\n",
       "      <td>10.799303</td>\n",
       "      <td>5.975706</td>\n",
       "      <td>0.00000</td>\n",
       "      <td>0.697535</td>\n",
       "      <td>0.208358</td>\n",
       "    </tr>\n",
       "    <tr>\n",
       "      <th>1</th>\n",
       "      <td>1615.692796</td>\n",
       "      <td>1962.324688</td>\n",
       "      <td>31.672924</td>\n",
       "      <td>59.240011</td>\n",
       "      <td>24.63484</td>\n",
       "      <td>1.175770e+08</td>\n",
       "      <td>1.494569</td>\n",
       "      <td>1983.205909</td>\n",
       "      <td>5278.597988</td>\n",
       "      <td>38.035143</td>\n",
       "      <td>...</td>\n",
       "      <td>0.231646</td>\n",
       "      <td>8.537807</td>\n",
       "      <td>1.027215</td>\n",
       "      <td>21.094002</td>\n",
       "      <td>9.565022</td>\n",
       "      <td>10.559618</td>\n",
       "      <td>4.936668</td>\n",
       "      <td>2.88075</td>\n",
       "      <td>1.082008</td>\n",
       "      <td>0.226375</td>\n",
       "    </tr>\n",
       "  </tbody>\n",
       "</table>\n",
       "<p>2 rows × 23 columns</p>\n",
       "</div>"
      ],
      "text/plain": [
       "          CASENUM      YEAROB1     RELAGE      SNTLN     TMSRV        PCTSRV  \\\n",
       "RESP                                                                           \n",
       "0     1646.699693  1958.202407  35.834532  71.708477  30.69262  7.189998e+07   \n",
       "1     1615.692796  1962.324688  31.672924  59.240011  24.63484  1.175770e+08   \n",
       "\n",
       "       A001CNT       A001YR       J001YR    J001CNT    ...         ROTST  \\\n",
       "RESP                                                   ...                 \n",
       "0     1.512116  1983.049657  4991.074572  33.182199    ...      0.000000   \n",
       "1     1.494569  1983.205909  5278.597988  38.035143    ...      0.231646   \n",
       "\n",
       "          PRIR     POTST  AGE_FIRST_OFF  TOT_PRARR  CAREER_LEN  SNTLN_YRS  \\\n",
       "RESP                                                                        \n",
       "0     4.886224  0.792492      25.061670   5.678716   10.799303   5.975706   \n",
       "1     8.537807  1.027215      21.094002   9.565022   10.559618   4.936668   \n",
       "\n",
       "      TOTREARR  AVG_YRLY_ARR  TREATMENT  \n",
       "RESP                                     \n",
       "0      0.00000      0.697535   0.208358  \n",
       "1      2.88075      1.082008   0.226375  \n",
       "\n",
       "[2 rows x 23 columns]"
      ]
     },
     "execution_count": 67,
     "metadata": {},
     "output_type": "execute_result"
    }
   ],
   "source": [
    "df2.groupby('RESP').mean()"
   ]
  },
  {
   "cell_type": "markdown",
   "metadata": {},
   "source": [
    "###Quick visualize distribution of features"
   ]
  },
  {
   "cell_type": "code",
   "execution_count": 68,
   "metadata": {
    "collapsed": false
   },
   "outputs": [],
   "source": [
    "def make_plot(x):\n",
    "    plt.figure(figsize = (15,5))\n",
    "    sns.countplot(sorted(df2[x]))\n",
    "    plt.xticks(rotation = 90)\n",
    "    plt.xlabel(x)\n",
    "    plt.show()\n",
    "\n",
    "#for feature in features:\n",
    "#    make_plot(feature)"
   ]
  },
  {
   "cell_type": "markdown",
   "metadata": {},
   "source": [
    "###Set up selected features, train/test split and scale"
   ]
  },
  {
   "cell_type": "code",
   "execution_count": 69,
   "metadata": {
    "collapsed": false
   },
   "outputs": [],
   "source": [
    "y, X = dmatrices('RESP ~ ADTYP + np.log(A001CNT+1) + SEX + RACE  + ETHNIC +RELTYP + J001PJP1+ np.log(RELAGE+1) + np.log(TMSRV+1) + np.log(TOT_PRARR+1) + PCTSRV + np.log(AGE_FIRST_OFF) + SMPOFF5+ A001FM1 + C(TREATMENT) + SNTLN_YRS + np.log(AVG_YRLY_ARR + 1)', data=df2, return_type='dataframe')\n",
    "\n",
    "y = np.ravel(y)\n",
    "\n",
    "x_train, x_test, y_train, y_test = train_test_split(\n",
    "    X, y, test_size=0.25, random_state=7)\n",
    "\n",
    "std_scale = preprocessing.StandardScaler().fit(x_train)\n",
    "x_train = std_scale.transform(x_train)\n",
    "x_test = std_scale.transform(x_test)"
   ]
  },
  {
   "cell_type": "markdown",
   "metadata": {},
   "source": [
    "###Baseline predictor\n"
   ]
  },
  {
   "cell_type": "code",
   "execution_count": 70,
   "metadata": {
    "collapsed": false
   },
   "outputs": [
    {
     "name": "stdout",
     "output_type": "stream",
     "text": [
      "Baseline = 0.58\n"
     ]
    }
   ],
   "source": [
    "def always_reoffend(x):\n",
    "    return [1] * len(x)\n",
    "y_pred = always_reoffend(x_test)\n",
    "\n",
    "print \"Baseline = %0.2f\" % accuracy_score(y_test, y_pred) "
   ]
  },
  {
   "cell_type": "markdown",
   "metadata": {},
   "source": [
    "###Train model and evaluate test accuracy"
   ]
  },
  {
   "cell_type": "code",
   "execution_count": 71,
   "metadata": {
    "collapsed": false
   },
   "outputs": [
    {
     "name": "stdout",
     "output_type": "stream",
     "text": [
      "KNN test accuracy score: 0.65709835336\n",
      "Logistic Regression test accuracy score: 0.695705384958\n",
      "Gaussian Naive Bayes test accuracy score: 0.599577214063\n",
      "SVM Classifier test accuracy score: 0.697930574099\n",
      "Decision Tree test accuracy score: 0.614485981308\n",
      "Random Forest test accuracy score: 0.661659991099\n"
     ]
    }
   ],
   "source": [
    "def test_model(name, main_model):\n",
    "    model = main_model\n",
    "    model.fit(x_train, y_train)\n",
    "    y_pred = model.predict(x_test)\n",
    "    print name, \"test accuracy score:\", accuracy_score(y_test, model.predict(x_test))\n",
    "    \n",
    "test_model(\"KNN\", KNeighborsClassifier())\n",
    "test_model(\"Logistic Regression\", LogisticRegression())\n",
    "test_model(\"Gaussian Naive Bayes\", GaussianNB())\n",
    "test_model(\"SVM Classifier\", SVC())\n",
    "test_model(\"Decision Tree\", DecisionTreeClassifier())\n",
    "test_model(\"Random Forest\", RandomForestClassifier())"
   ]
  },
  {
   "cell_type": "markdown",
   "metadata": {},
   "source": [
    "###Look at feature importance"
   ]
  },
  {
   "cell_type": "code",
   "execution_count": 72,
   "metadata": {
    "collapsed": false
   },
   "outputs": [
    {
     "data": {
      "image/png": "[encoded data removed]",
      "text/plain": [
       "<matplotlib.figure.Figure at 0x1c88dbf90>"
      ]
     },
     "metadata": {},
     "output_type": "display_data"
    }
   ],
   "source": [
    "model = RandomForestClassifier()\n",
    "model.fit(x_train, y_train)\n",
    "importances = model.feature_importances_\n",
    "std = np.std([tree.feature_importances_ for tree in model.estimators_],\n",
    "             axis=0)\n",
    "indices = np.argsort(importances)[::-1]\n",
    "\n",
    "plt.figure(figsize = (25,10))\n",
    "plt.title(\"Feature importances\")\n",
    "plt.bar(range(len(indices)), importances[indices],\n",
    "       color=\"r\", yerr=std[indices], align=\"center\")\n",
    "plt.xticks(range(len(indices)), X.columns[indices], rotation = 90)\n",
    "plt.xlim([-1, len(indices)])\n",
    "plt.show()"
   ]
  },
  {
   "cell_type": "markdown",
   "metadata": {},
   "source": [
    "###Create dataframe with confusion matrix metrics for each feature in model"
   ]
  },
  {
   "cell_type": "code",
   "execution_count": 73,
   "metadata": {
    "collapsed": true
   },
   "outputs": [],
   "source": [
    "cm_features = ['AVG_YRLY_ARR','RELAGE','TOT_PRARR', 'TMSRV', 'AGE_FIRST_OFF','SNTLN_YRS', 'SMPOFF5','J001PJP1']"
   ]
  },
  {
   "cell_type": "code",
   "execution_count": 74,
   "metadata": {
    "collapsed": false,
    "scrolled": true
   },
   "outputs": [
    {
     "name": "stdout",
     "output_type": "stream",
     "text": [
      "[\"y, X = dmatrices('RESP ~ AVG_YRLY_ARR', data=df2, return_type='dataframe')\",\n",
      " \"y, X = dmatrices('RESP ~ RELAGE', data=df2, return_type='dataframe')\",\n",
      " \"y, X = dmatrices('RESP ~ TOT_PRARR', data=df2, return_type='dataframe')\",\n",
      " \"y, X = dmatrices('RESP ~ TMSRV', data=df2, return_type='dataframe')\",\n",
      " \"y, X = dmatrices('RESP ~ AGE_FIRST_OFF', data=df2, return_type='dataframe')\",\n",
      " \"y, X = dmatrices('RESP ~ SNTLN_YRS', data=df2, return_type='dataframe')\",\n",
      " \"y, X = dmatrices('RESP ~ SMPOFF5', data=df2, return_type='dataframe')\",\n",
      " \"y, X = dmatrices('RESP ~ J001PJP1', data=df2, return_type='dataframe')\"]\n"
     ]
    }
   ],
   "source": [
    "model_list = []\n",
    "for feature in cm_features:\n",
    "    model = \"y, X = dmatrices('RESP ~ \" +feature+ \"', data=df2, return_type='dataframe')\"\n",
    "    model_list.append(model)\n",
    "pprint.pprint(model_list)"
   ]
  },
  {
   "cell_type": "code",
   "execution_count": 75,
   "metadata": {
    "collapsed": true
   },
   "outputs": [],
   "source": [
    "y, X = dmatrices('RESP ~ ADTYP + np.log(A001CNT+1) + SEX + RACE  + ETHNIC +RELTYP + J001PJP1+ np.log(RELAGE+1) + np.log(TMSRV+1) + np.log(TOT_PRARR+1) + PCTSRV + np.log(AGE_FIRST_OFF) + SMPOFF5+ A001FM1 + C(TREATMENT) + SNTLN_YRS + np.log(AVG_YRLY_ARR + 1)', data=df2, return_type='dataframe')\n",
    "\n",
    "y = np.ravel(y)\n",
    "\n",
    "x_train, x_test, y_train, y_test = train_test_split(\n",
    "    X, y, test_size=0.25, random_state=7)\n",
    "\n",
    "std_scale = preprocessing.StandardScaler().fit(x_train)\n",
    "x_train = std_scale.transform(x_train)\n",
    "x_test = std_scale.transform(x_test)\n",
    "\n",
    "model = SVC()\n",
    "model.fit(x_train, y_train)\n",
    "y_pred = model.predict(x_test)"
   ]
  },
  {
   "cell_type": "code",
   "execution_count": 76,
   "metadata": {
    "collapsed": false
   },
   "outputs": [],
   "source": [
    "cm = confusion_matrix(y_test, model.predict(x_test))"
   ]
  },
  {
   "cell_type": "code",
   "execution_count": 77,
   "metadata": {
    "collapsed": false
   },
   "outputs": [
    {
     "data": {
      "text/html": [
       "<div>\n",
       "<table border=\"1\" class=\"dataframe\">\n",
       "  <thead>\n",
       "    <tr style=\"text-align: right;\">\n",
       "      <th></th>\n",
       "      <th>0</th>\n",
       "    </tr>\n",
       "  </thead>\n",
       "  <tbody>\n",
       "    <tr>\n",
       "      <th>0</th>\n",
       "      <td>1845</td>\n",
       "    </tr>\n",
       "    <tr>\n",
       "      <th>1</th>\n",
       "      <td>1908</td>\n",
       "    </tr>\n",
       "    <tr>\n",
       "      <th>2</th>\n",
       "      <td>807</td>\n",
       "    </tr>\n",
       "    <tr>\n",
       "      <th>3</th>\n",
       "      <td>4428</td>\n",
       "    </tr>\n",
       "  </tbody>\n",
       "</table>\n",
       "</div>"
      ],
      "text/plain": [
       "      0\n",
       "0  1845\n",
       "1  1908\n",
       "2   807\n",
       "3  4428"
      ]
     },
     "execution_count": 77,
     "metadata": {},
     "output_type": "execute_result"
    }
   ],
   "source": [
    "cm_df = pd.DataFrame(np.hstack((cm[0],cm[1])))\n",
    "cm_df"
   ]
  },
  {
   "cell_type": "code",
   "execution_count": 78,
   "metadata": {
    "collapsed": false
   },
   "outputs": [],
   "source": [
    "y, X = dmatrices('RESP ~ TMSRV', data=df2, return_type='dataframe')\n",
    "\n",
    "y = np.ravel(y)\n",
    "\n",
    "x_train, x_test, y_train, y_test = train_test_split(\n",
    "    X, y, test_size=0.25, random_state=7)\n",
    "\n",
    "std_scale = preprocessing.StandardScaler().fit(x_train)\n",
    "x_train = std_scale.transform(x_train)\n",
    "x_test = std_scale.transform(x_test)\n",
    "\n",
    "model = SVC()\n",
    "model.fit(x_train, y_train)\n",
    "y_pred = model.predict(x_test)\n",
    "cm = confusion_matrix(y_test, model.predict(x_test))\n",
    "cm_df['TMSRV'] = np.hstack((cm[0],cm[1]))"
   ]
  },
  {
   "cell_type": "code",
   "execution_count": 79,
   "metadata": {
    "collapsed": true
   },
   "outputs": [],
   "source": [
    "y, X = dmatrices('RESP ~ RELAGE', data=df2, return_type='dataframe')\n",
    "\n",
    "y = np.ravel(y)\n",
    "\n",
    "x_train, x_test, y_train, y_test = train_test_split(\n",
    "    X, y, test_size=0.25, random_state=7)\n",
    "\n",
    "std_scale = preprocessing.StandardScaler().fit(x_train)\n",
    "x_train = std_scale.transform(x_train)\n",
    "x_test = std_scale.transform(x_test)\n",
    "\n",
    "model = SVC()\n",
    "model.fit(x_train, y_train)\n",
    "y_pred = model.predict(x_test)\n",
    "cm = confusion_matrix(y_test, model.predict(x_test))\n",
    "cm_df['RELAGE'] = np.hstack((cm[0],cm[1]))"
   ]
  },
  {
   "cell_type": "code",
   "execution_count": 80,
   "metadata": {
    "collapsed": true
   },
   "outputs": [],
   "source": [
    "y, X = dmatrices('RESP ~ SNTLN_YRS', data=df2, return_type='dataframe')\n",
    "\n",
    "y = np.ravel(y)\n",
    "\n",
    "x_train, x_test, y_train, y_test = train_test_split(\n",
    "    X, y, test_size=0.25, random_state=7)\n",
    "\n",
    "std_scale = preprocessing.StandardScaler().fit(x_train)\n",
    "x_train = std_scale.transform(x_train)\n",
    "x_test = std_scale.transform(x_test)\n",
    "\n",
    "model = SVC()\n",
    "model.fit(x_train, y_train)\n",
    "y_pred = model.predict(x_test)\n",
    "cm = confusion_matrix(y_test, model.predict(x_test))\n",
    "cm_df['SNTLN_YRS'] = np.hstack((cm[0],cm[1]))"
   ]
  },
  {
   "cell_type": "code",
   "execution_count": 81,
   "metadata": {
    "collapsed": true
   },
   "outputs": [],
   "source": [
    "y, X = dmatrices('RESP ~ SMPOFF5', data=df2, return_type='dataframe')\n",
    "\n",
    "y = np.ravel(y)\n",
    "\n",
    "x_train, x_test, y_train, y_test = train_test_split(\n",
    "    X, y, test_size=0.25, random_state=7)\n",
    "\n",
    "std_scale = preprocessing.StandardScaler().fit(x_train)\n",
    "x_train = std_scale.transform(x_train)\n",
    "x_test = std_scale.transform(x_test)\n",
    "\n",
    "model = SVC()\n",
    "model.fit(x_train, y_train)\n",
    "y_pred = model.predict(x_test)\n",
    "cm = confusion_matrix(y_test, model.predict(x_test))\n",
    "cm_df['SMPOFF5'] = np.hstack((cm[0],cm[1]))"
   ]
  },
  {
   "cell_type": "code",
   "execution_count": 82,
   "metadata": {
    "collapsed": true
   },
   "outputs": [],
   "source": [
    "y, X = dmatrices('RESP ~ A001CNT', data=df2, return_type='dataframe')\n",
    "\n",
    "y = np.ravel(y)\n",
    "\n",
    "x_train, x_test, y_train, y_test = train_test_split(\n",
    "    X, y, test_size=0.25, random_state=7)\n",
    "\n",
    "std_scale = preprocessing.StandardScaler().fit(x_train)\n",
    "x_train = std_scale.transform(x_train)\n",
    "x_test = std_scale.transform(x_test)\n",
    "\n",
    "model = SVC()\n",
    "model.fit(x_train, y_train)\n",
    "y_pred = model.predict(x_test)\n",
    "cm = confusion_matrix(y_test, model.predict(x_test))\n",
    "cm_df['A001CNT'] = np.hstack((cm[0],cm[1]))"
   ]
  },
  {
   "cell_type": "code",
   "execution_count": 83,
   "metadata": {
    "collapsed": false
   },
   "outputs": [],
   "source": [
    "y, X = dmatrices('RESP ~ J001PJP1', data=df2, return_type='dataframe')\n",
    "\n",
    "y = np.ravel(y)\n",
    "\n",
    "x_train, x_test, y_train, y_test = train_test_split(\n",
    "    X, y, test_size=0.25, random_state=7)\n",
    "\n",
    "std_scale = preprocessing.StandardScaler().fit(x_train)\n",
    "x_train = std_scale.transform(x_train)\n",
    "x_test = std_scale.transform(x_test)\n",
    "\n",
    "model = SVC()\n",
    "model.fit(x_train, y_train)\n",
    "y_pred = model.predict(x_test)\n",
    "cm = confusion_matrix(y_test, model.predict(x_test))\n",
    "cm_df['J001PJP1'] = np.hstack((cm[0],cm[1]))"
   ]
  },
  {
   "cell_type": "code",
   "execution_count": 84,
   "metadata": {
    "collapsed": true
   },
   "outputs": [],
   "source": [
    "y, X = dmatrices('RESP ~ TOT_PRARR', data=df2, return_type='dataframe')\n",
    "\n",
    "y = np.ravel(y)\n",
    "\n",
    "x_train, x_test, y_train, y_test = train_test_split(\n",
    "    X, y, test_size=0.25, random_state=7)\n",
    "\n",
    "std_scale = preprocessing.StandardScaler().fit(x_train)\n",
    "x_train = std_scale.transform(x_train)\n",
    "x_test = std_scale.transform(x_test)\n",
    "\n",
    "model = SVC()\n",
    "model.fit(x_train, y_train)\n",
    "y_pred = model.predict(x_test)\n",
    "cm = confusion_matrix(y_test, model.predict(x_test))\n",
    "cm_df['TOT_PRARR'] = np.hstack((cm[0],cm[1]))"
   ]
  },
  {
   "cell_type": "code",
   "execution_count": 85,
   "metadata": {
    "collapsed": false
   },
   "outputs": [],
   "source": [
    "y, X = dmatrices('RESP ~ AVG_YRLY_ARR', data=df2, return_type='dataframe')\n",
    "y = np.ravel(y)\n",
    "\n",
    "x_train, x_test, y_train, y_test = train_test_split(\n",
    "    X, y, test_size=0.25, random_state=7)\n",
    "\n",
    "std_scale = preprocessing.StandardScaler().fit(x_train)\n",
    "x_train = std_scale.transform(x_train)\n",
    "x_test = std_scale.transform(x_test)\n",
    "\n",
    "model = SVC()\n",
    "model.fit(x_train, y_train)\n",
    "y_pred = model.predict(x_test)\n",
    "cm = confusion_matrix(y_test, model.predict(x_test))\n",
    "cm_df['AVG_YRLY_ARR'] = np.hstack((cm[0],cm[1]))"
   ]
  },
  {
   "cell_type": "code",
   "execution_count": 86,
   "metadata": {
    "collapsed": false
   },
   "outputs": [],
   "source": [
    "y, X = dmatrices('RESP ~ AGE_FIRST_OFF', data=df2, return_type='dataframe')\n",
    "\n",
    "y = np.ravel(y)\n",
    "\n",
    "x_train, x_test, y_train, y_test = train_test_split(\n",
    "    X, y, test_size=0.25, random_state=7)\n",
    "\n",
    "std_scale = preprocessing.StandardScaler().fit(x_train)\n",
    "x_train = std_scale.transform(x_train)\n",
    "x_test = std_scale.transform(x_test)\n",
    "\n",
    "model = SVC()\n",
    "model.fit(x_train, y_train)\n",
    "y_pred = model.predict(x_test)\n",
    "cm = confusion_matrix(y_test, model.predict(x_test))\n",
    "cm_df['AGE_FIRST_OFF'] = np.hstack((cm[0],cm[1]))"
   ]
  },
  {
   "cell_type": "code",
   "execution_count": 87,
   "metadata": {
    "collapsed": false
   },
   "outputs": [
    {
     "data": {
      "text/html": [
       "<div>\n",
       "<table border=\"1\" class=\"dataframe\">\n",
       "  <thead>\n",
       "    <tr style=\"text-align: right;\">\n",
       "      <th></th>\n",
       "      <th>Full model</th>\n",
       "      <th>Time served (1994)</th>\n",
       "      <th>Age at release (1994)</th>\n",
       "      <th>Sentence Length (1994)</th>\n",
       "      <th>Severity of offense (1994)</th>\n",
       "      <th>Consequence (first arrest)</th>\n",
       "      <th>Total prior arrests (1994)</th>\n",
       "      <th>Average arrest rate</th>\n",
       "      <th>Age at first offense</th>\n",
       "    </tr>\n",
       "  </thead>\n",
       "  <tbody>\n",
       "    <tr>\n",
       "      <th>0</th>\n",
       "      <td>1845</td>\n",
       "      <td>461</td>\n",
       "      <td>786</td>\n",
       "      <td>154</td>\n",
       "      <td>6</td>\n",
       "      <td>846</td>\n",
       "      <td>1135</td>\n",
       "      <td>1462</td>\n",
       "      <td>1140</td>\n",
       "    </tr>\n",
       "    <tr>\n",
       "      <th>1</th>\n",
       "      <td>1908</td>\n",
       "      <td>3327</td>\n",
       "      <td>2991</td>\n",
       "      <td>3634</td>\n",
       "      <td>3782</td>\n",
       "      <td>2942</td>\n",
       "      <td>2653</td>\n",
       "      <td>2299</td>\n",
       "      <td>2671</td>\n",
       "    </tr>\n",
       "    <tr>\n",
       "      <th>2</th>\n",
       "      <td>807</td>\n",
       "      <td>383</td>\n",
       "      <td>467</td>\n",
       "      <td>153</td>\n",
       "      <td>3</td>\n",
       "      <td>686</td>\n",
       "      <td>610</td>\n",
       "      <td>810</td>\n",
       "      <td>614</td>\n",
       "    </tr>\n",
       "    <tr>\n",
       "      <th>3</th>\n",
       "      <td>4428</td>\n",
       "      <td>5485</td>\n",
       "      <td>5400</td>\n",
       "      <td>5715</td>\n",
       "      <td>5865</td>\n",
       "      <td>5182</td>\n",
       "      <td>5258</td>\n",
       "      <td>4475</td>\n",
       "      <td>4702</td>\n",
       "    </tr>\n",
       "  </tbody>\n",
       "</table>\n",
       "</div>"
      ],
      "text/plain": [
       "   Full model  Time served (1994)  Age at release (1994)  \\\n",
       "0        1845                 461                    786   \n",
       "1        1908                3327                   2991   \n",
       "2         807                 383                    467   \n",
       "3        4428                5485                   5400   \n",
       "\n",
       "   Sentence Length (1994)  Severity of offense (1994)  \\\n",
       "0                     154                           6   \n",
       "1                    3634                        3782   \n",
       "2                     153                           3   \n",
       "3                    5715                        5865   \n",
       "\n",
       "   Consequence (first arrest)  Total prior arrests (1994)  \\\n",
       "0                         846                        1135   \n",
       "1                        2942                        2653   \n",
       "2                         686                         610   \n",
       "3                        5182                        5258   \n",
       "\n",
       "   Average arrest rate  Age at first offense  \n",
       "0                 1462                  1140  \n",
       "1                 2299                  2671  \n",
       "2                  810                   614  \n",
       "3                 4475                  4702  "
      ]
     },
     "execution_count": 87,
     "metadata": {},
     "output_type": "execute_result"
    }
   ],
   "source": [
    "cm_df.columns =['Full model', 'Time served (1994)', 'Age at release (1994)' , 'Sentence Length (1994)','Severity of offense (1994)', 'Number of arrests', 'Consequence (first arrest)', 'Total prior arrests (1994)','Average arrest rate','Age at first offense',]\n",
    "cm_df =cm_df[['Full model', 'Time served (1994)', 'Age at release (1994)' , 'Sentence Length (1994)','Severity of offense (1994)','Consequence (first arrest)', 'Total prior arrests (1994)','Average arrest rate', 'Age at first offense']]\n",
    "cm_df"
   ]
  },
  {
   "cell_type": "code",
   "execution_count": 88,
   "metadata": {
    "collapsed": false
   },
   "outputs": [
    {
     "data": {
      "text/html": [
       "<div>\n",
       "<table border=\"1\" class=\"dataframe\">\n",
       "  <thead>\n",
       "    <tr style=\"text-align: right;\">\n",
       "      <th></th>\n",
       "      <th>0</th>\n",
       "      <th>1</th>\n",
       "      <th>2</th>\n",
       "      <th>3</th>\n",
       "    </tr>\n",
       "  </thead>\n",
       "  <tbody>\n",
       "    <tr>\n",
       "      <th>Full model</th>\n",
       "      <td>1845</td>\n",
       "      <td>1908</td>\n",
       "      <td>807</td>\n",
       "      <td>4428</td>\n",
       "    </tr>\n",
       "    <tr>\n",
       "      <th>Time served (1994)</th>\n",
       "      <td>461</td>\n",
       "      <td>3327</td>\n",
       "      <td>383</td>\n",
       "      <td>5485</td>\n",
       "    </tr>\n",
       "    <tr>\n",
       "      <th>Age at release (1994)</th>\n",
       "      <td>786</td>\n",
       "      <td>2991</td>\n",
       "      <td>467</td>\n",
       "      <td>5400</td>\n",
       "    </tr>\n",
       "    <tr>\n",
       "      <th>Sentence Length (1994)</th>\n",
       "      <td>154</td>\n",
       "      <td>3634</td>\n",
       "      <td>153</td>\n",
       "      <td>5715</td>\n",
       "    </tr>\n",
       "    <tr>\n",
       "      <th>Severity of offense (1994)</th>\n",
       "      <td>6</td>\n",
       "      <td>3782</td>\n",
       "      <td>3</td>\n",
       "      <td>5865</td>\n",
       "    </tr>\n",
       "    <tr>\n",
       "      <th>Consequence (first arrest)</th>\n",
       "      <td>846</td>\n",
       "      <td>2942</td>\n",
       "      <td>686</td>\n",
       "      <td>5182</td>\n",
       "    </tr>\n",
       "    <tr>\n",
       "      <th>Total prior arrests (1994)</th>\n",
       "      <td>1135</td>\n",
       "      <td>2653</td>\n",
       "      <td>610</td>\n",
       "      <td>5258</td>\n",
       "    </tr>\n",
       "    <tr>\n",
       "      <th>Average arrest rate</th>\n",
       "      <td>1462</td>\n",
       "      <td>2299</td>\n",
       "      <td>810</td>\n",
       "      <td>4475</td>\n",
       "    </tr>\n",
       "    <tr>\n",
       "      <th>Age at first offense</th>\n",
       "      <td>1140</td>\n",
       "      <td>2671</td>\n",
       "      <td>614</td>\n",
       "      <td>4702</td>\n",
       "    </tr>\n",
       "  </tbody>\n",
       "</table>\n",
       "</div>"
      ],
      "text/plain": [
       "                               0     1    2     3\n",
       "Full model                  1845  1908  807  4428\n",
       "Time served (1994)           461  3327  383  5485\n",
       "Age at release (1994)        786  2991  467  5400\n",
       "Sentence Length (1994)       154  3634  153  5715\n",
       "Severity of offense (1994)     6  3782    3  5865\n",
       "Consequence (first arrest)   846  2942  686  5182\n",
       "Total prior arrests (1994)  1135  2653  610  5258\n",
       "Average arrest rate         1462  2299  810  4475\n",
       "Age at first offense        1140  2671  614  4702"
      ]
     },
     "execution_count": 88,
     "metadata": {},
     "output_type": "execute_result"
    }
   ],
   "source": [
    "cm_plot_df = cm_df.T\n",
    "cm_plot_df"
   ]
  },
  {
   "cell_type": "code",
   "execution_count": 89,
   "metadata": {
    "collapsed": false
   },
   "outputs": [
    {
     "data": {
      "text/html": [
       "<div>\n",
       "<table border=\"1\" class=\"dataframe\">\n",
       "  <thead>\n",
       "    <tr style=\"text-align: right;\">\n",
       "      <th></th>\n",
       "      <th>Correct</th>\n",
       "      <th>Incorrect</th>\n",
       "      <th>Type 1</th>\n",
       "      <th>Type 2</th>\n",
       "    </tr>\n",
       "  </thead>\n",
       "  <tbody>\n",
       "    <tr>\n",
       "      <th>Full model</th>\n",
       "      <td>6273</td>\n",
       "      <td>2715</td>\n",
       "      <td>1908</td>\n",
       "      <td>807</td>\n",
       "    </tr>\n",
       "    <tr>\n",
       "      <th>Time served (1994)</th>\n",
       "      <td>5946</td>\n",
       "      <td>3710</td>\n",
       "      <td>3327</td>\n",
       "      <td>383</td>\n",
       "    </tr>\n",
       "    <tr>\n",
       "      <th>Age at release (1994)</th>\n",
       "      <td>6186</td>\n",
       "      <td>3458</td>\n",
       "      <td>2991</td>\n",
       "      <td>467</td>\n",
       "    </tr>\n",
       "    <tr>\n",
       "      <th>Sentence Length (1994)</th>\n",
       "      <td>5869</td>\n",
       "      <td>3787</td>\n",
       "      <td>3634</td>\n",
       "      <td>153</td>\n",
       "    </tr>\n",
       "    <tr>\n",
       "      <th>Severity of offense (1994)</th>\n",
       "      <td>5871</td>\n",
       "      <td>3785</td>\n",
       "      <td>3782</td>\n",
       "      <td>3</td>\n",
       "    </tr>\n",
       "    <tr>\n",
       "      <th>Consequence (first arrest)</th>\n",
       "      <td>6028</td>\n",
       "      <td>3628</td>\n",
       "      <td>2942</td>\n",
       "      <td>686</td>\n",
       "    </tr>\n",
       "    <tr>\n",
       "      <th>Total prior arrests (1994)</th>\n",
       "      <td>6393</td>\n",
       "      <td>3263</td>\n",
       "      <td>2653</td>\n",
       "      <td>610</td>\n",
       "    </tr>\n",
       "    <tr>\n",
       "      <th>Average arrest rate</th>\n",
       "      <td>5937</td>\n",
       "      <td>3109</td>\n",
       "      <td>2299</td>\n",
       "      <td>810</td>\n",
       "    </tr>\n",
       "    <tr>\n",
       "      <th>Age at first offense</th>\n",
       "      <td>5842</td>\n",
       "      <td>3285</td>\n",
       "      <td>2671</td>\n",
       "      <td>614</td>\n",
       "    </tr>\n",
       "  </tbody>\n",
       "</table>\n",
       "</div>"
      ],
      "text/plain": [
       "                            Correct  Incorrect  Type 1  Type 2\n",
       "Full model                     6273       2715    1908     807\n",
       "Time served (1994)             5946       3710    3327     383\n",
       "Age at release (1994)          6186       3458    2991     467\n",
       "Sentence Length (1994)         5869       3787    3634     153\n",
       "Severity of offense (1994)     5871       3785    3782       3\n",
       "Consequence (first arrest)     6028       3628    2942     686\n",
       "Total prior arrests (1994)     6393       3263    2653     610\n",
       "Average arrest rate            5937       3109    2299     810\n",
       "Age at first offense           5842       3285    2671     614"
      ]
     },
     "execution_count": 89,
     "metadata": {},
     "output_type": "execute_result"
    }
   ],
   "source": [
    "cm_plot_df['Correct']= cm_plot_df[0] + cm_plot_df[3]\n",
    "cm_plot_df['Incorrect']= cm_plot_df[1] + cm_plot_df[2]\n",
    "cm_plot_df['Type 1']= cm_plot_df[1]\n",
    "cm_plot_df['Type 2']= cm_plot_df[2]\n",
    "cm_plot_df = cm_plot_df[['Correct', 'Incorrect','Type 1','Type 2']]\n",
    "cm_plot_df"
   ]
  },
  {
   "cell_type": "code",
   "execution_count": 90,
   "metadata": {
    "collapsed": false
   },
   "outputs": [
    {
     "data": {
      "text/html": [
       "<div>\n",
       "<table border=\"1\" class=\"dataframe\">\n",
       "  <thead>\n",
       "    <tr style=\"text-align: right;\">\n",
       "      <th></th>\n",
       "      <th>Correct</th>\n",
       "      <th>Incorrect</th>\n",
       "    </tr>\n",
       "  </thead>\n",
       "  <tbody>\n",
       "    <tr>\n",
       "      <th>Full model</th>\n",
       "      <td>0.697931</td>\n",
       "      <td>0.302069</td>\n",
       "    </tr>\n",
       "    <tr>\n",
       "      <th>Total prior arrests (1994)</th>\n",
       "      <td>0.662075</td>\n",
       "      <td>0.337925</td>\n",
       "    </tr>\n",
       "    <tr>\n",
       "      <th>Average arrest rate</th>\n",
       "      <td>0.656312</td>\n",
       "      <td>0.343688</td>\n",
       "    </tr>\n",
       "    <tr>\n",
       "      <th>Age at release (1994)</th>\n",
       "      <td>0.641435</td>\n",
       "      <td>0.358565</td>\n",
       "    </tr>\n",
       "    <tr>\n",
       "      <th>Age at first offense</th>\n",
       "      <td>0.640079</td>\n",
       "      <td>0.359921</td>\n",
       "    </tr>\n",
       "    <tr>\n",
       "      <th>Consequence (first arrest)</th>\n",
       "      <td>0.624275</td>\n",
       "      <td>0.375725</td>\n",
       "    </tr>\n",
       "    <tr>\n",
       "      <th>Time served (1994)</th>\n",
       "      <td>0.615783</td>\n",
       "      <td>0.384217</td>\n",
       "    </tr>\n",
       "    <tr>\n",
       "      <th>Severity of offense (1994)</th>\n",
       "      <td>0.608016</td>\n",
       "      <td>0.391984</td>\n",
       "    </tr>\n",
       "    <tr>\n",
       "      <th>Sentence Length (1994)</th>\n",
       "      <td>0.607809</td>\n",
       "      <td>0.392191</td>\n",
       "    </tr>\n",
       "  </tbody>\n",
       "</table>\n",
       "</div>"
      ],
      "text/plain": [
       "                             Correct  Incorrect\n",
       "Full model                  0.697931   0.302069\n",
       "Total prior arrests (1994)  0.662075   0.337925\n",
       "Average arrest rate         0.656312   0.343688\n",
       "Age at release (1994)       0.641435   0.358565\n",
       "Age at first offense        0.640079   0.359921\n",
       "Consequence (first arrest)  0.624275   0.375725\n",
       "Time served (1994)          0.615783   0.384217\n",
       "Severity of offense (1994)  0.608016   0.391984\n",
       "Sentence Length (1994)      0.607809   0.392191"
      ]
     },
     "execution_count": 90,
     "metadata": {},
     "output_type": "execute_result"
    }
   ],
   "source": [
    "per_plot_df = cm_plot_df.copy()\n",
    "per_plot_df['TOTAL'] = per_plot_df['Correct'] + per_plot_df['Incorrect']\n",
    "per_plot_df['Correct'] = per_plot_df['Correct']/per_plot_df['TOTAL']\n",
    "per_plot_df['Incorrect'] = per_plot_df['Incorrect']/per_plot_df['TOTAL']\n",
    "per_plot_df = per_plot_df[['Correct', 'Incorrect']]\n",
    "per_plot_df = per_plot_df.sort(['Correct'], ascending = False)\n",
    "per_plot_df"
   ]
  },
  {
   "cell_type": "code",
   "execution_count": 91,
   "metadata": {
    "collapsed": false
   },
   "outputs": [],
   "source": [
    "per_plot_df.to_csv('final_data.csv', sep=',', header = ['Correct', 'Incorrect'])"
   ]
  },
  {
   "cell_type": "code",
   "execution_count": 92,
   "metadata": {
    "collapsed": false
   },
   "outputs": [
    {
     "data": {
      "text/html": [
       "<div>\n",
       "<table border=\"1\" class=\"dataframe\">\n",
       "  <thead>\n",
       "    <tr style=\"text-align: right;\">\n",
       "      <th></th>\n",
       "      <th>Type 1</th>\n",
       "      <th>Type 2</th>\n",
       "    </tr>\n",
       "  </thead>\n",
       "  <tbody>\n",
       "    <tr>\n",
       "      <th>Severity of offense (1994)</th>\n",
       "      <td>0.391674</td>\n",
       "      <td>0.000311</td>\n",
       "    </tr>\n",
       "    <tr>\n",
       "      <th>Sentence Length (1994)</th>\n",
       "      <td>0.376346</td>\n",
       "      <td>0.015845</td>\n",
       "    </tr>\n",
       "    <tr>\n",
       "      <th>Time served (1994)</th>\n",
       "      <td>0.344553</td>\n",
       "      <td>0.039664</td>\n",
       "    </tr>\n",
       "    <tr>\n",
       "      <th>Age at release (1994)</th>\n",
       "      <td>0.310141</td>\n",
       "      <td>0.048424</td>\n",
       "    </tr>\n",
       "    <tr>\n",
       "      <th>Consequence (first arrest)</th>\n",
       "      <td>0.304681</td>\n",
       "      <td>0.071044</td>\n",
       "    </tr>\n",
       "    <tr>\n",
       "      <th>Age at first offense</th>\n",
       "      <td>0.292648</td>\n",
       "      <td>0.067273</td>\n",
       "    </tr>\n",
       "    <tr>\n",
       "      <th>Total prior arrests (1994)</th>\n",
       "      <td>0.274751</td>\n",
       "      <td>0.063173</td>\n",
       "    </tr>\n",
       "    <tr>\n",
       "      <th>Average arrest rate</th>\n",
       "      <td>0.254145</td>\n",
       "      <td>0.089542</td>\n",
       "    </tr>\n",
       "    <tr>\n",
       "      <th>Full model</th>\n",
       "      <td>0.212283</td>\n",
       "      <td>0.089786</td>\n",
       "    </tr>\n",
       "  </tbody>\n",
       "</table>\n",
       "</div>"
      ],
      "text/plain": [
       "                              Type 1    Type 2\n",
       "Severity of offense (1994)  0.391674  0.000311\n",
       "Sentence Length (1994)      0.376346  0.015845\n",
       "Time served (1994)          0.344553  0.039664\n",
       "Age at release (1994)       0.310141  0.048424\n",
       "Consequence (first arrest)  0.304681  0.071044\n",
       "Age at first offense        0.292648  0.067273\n",
       "Total prior arrests (1994)  0.274751  0.063173\n",
       "Average arrest rate         0.254145  0.089542\n",
       "Full model                  0.212283  0.089786"
      ]
     },
     "execution_count": 92,
     "metadata": {},
     "output_type": "execute_result"
    }
   ],
   "source": [
    "in_per_plot_df = cm_plot_df.copy()\n",
    "in_per_plot_df['TOTAL'] = in_per_plot_df['Correct'] + in_per_plot_df['Incorrect']\n",
    "in_per_plot_df['Type 1'] = in_per_plot_df['Type 1']/in_per_plot_df['TOTAL']\n",
    "in_per_plot_df['Type 2'] = in_per_plot_df['Type 2']/in_per_plot_df['TOTAL']\n",
    "in_per_plot_df = in_per_plot_df[['Type 1', 'Type 2']]\n",
    "in_per_plot_df = in_per_plot_df.sort(['Type 1'], ascending = False)\n",
    "in_per_plot_df"
   ]
  },
  {
   "cell_type": "code",
   "execution_count": 93,
   "metadata": {
    "collapsed": false
   },
   "outputs": [],
   "source": [
    "in_per_plot_df.to_csv('error_data.csv', sep=',', header = ['Innocent - presumed guilty', 'Guilty - presumed innocent'])"
   ]
  },
  {
   "cell_type": "code",
   "execution_count": 95,
   "metadata": {
    "collapsed": false
   },
   "outputs": [
    {
     "data": {
      "image/png": "[encoded data removed]",
      "text/plain": [
       "<matplotlib.figure.Figure at 0x16ccb81d0>"
      ]
     },
     "metadata": {},
     "output_type": "display_data"
    }
   ],
   "source": [
    "from sklearn.metrics import roc_auc_score\n",
    "def curves(name, classifier):\n",
    "    probas_ = classifier.fit(x_train, y_train).predict_proba(x_test)\n",
    "    fpr, tpr, thresholds = roc_curve(y_test, probas_[:, 1])\n",
    "    roc_auc = auc(fpr, tpr)\n",
    "    plt.plot(fpr, tpr, label = \"%s area under curve = %0.2f\" \n",
    "             % (name, roc_auc_score(y_test, probas_[:, 1])))\n",
    "    plt.legend(loc = \"best\")\n",
    "    plt.xlabel('False positive rate')\n",
    "    plt.ylabel('True positive rate')\n",
    "    plt.title(\"ROC curves\")\n",
    "    \n",
    "curves(\"KNN\", KNeighborsClassifier())\n",
    "curves(\"Logistic Regression\", LogisticRegression())\n",
    "curves(\"Gaussian Naive Bayes\", GaussianNB())\n",
    "curves(\"SVM Classifier\", SVC(probability = True))\n",
    "curves(\"Decision Tree\", DecisionTreeClassifier())\n",
    "curves(\"Random Forest\", RandomForestClassifier())"
   ]
  },
  {
   "cell_type": "markdown",
   "metadata": {},
   "source": [
    "###Grid search for best parameters for SVC"
   ]
  },
  {
   "cell_type": "code",
   "execution_count": null,
   "metadata": {
    "collapsed": false
   },
   "outputs": [],
   "source": [
    "\"\"\"y, X = dmatrices('RESP ~ ADTYP + np.log(A001CNT+1) + SEX + RACE  + ETHNIC +RELTYP + J001PJP1+ np.log(RELAGE+1) + np.log(TMSRV+1) + np.log(TOT_PRARR+1) + PCTSRV + np.log(AGE_FIRST_OFF) + SMPOFF5+ A001FM1 + C(TREATMENT) + SNTLN_YRS + np.log(AVG_YRLY_ARR + 1)', data=df2, return_type='dataframe')\n",
    "\n",
    "y = np.ravel(y)\n",
    "\n",
    "x_train, x_test, y_train, y_test = train_test_split(\n",
    "    X, y, test_size=0.25, random_state=7)\n",
    "\n",
    "std_scale = preprocessing.StandardScaler().fit(x_train)\n",
    "x_train = std_scale.transform(x_train)\n",
    "x_test = std_scale.transform(x_test)\n",
    "\n",
    "tuned_parameters = [{'kernel': ['rbf'], 'gamma': [1e-3, 1e-4],\n",
    "                     'C': [1, 10, 100, 1000]},\n",
    "                    {'kernel': ['linear'], 'C': [1, 10, 100, 1000]}]\n",
    "\n",
    "scores = ['precision', 'recall']\n",
    "\n",
    "for score in scores:\n",
    "    print(\"# Tuning hyper-parameters for %s\" % score)\n",
    "\n",
    "    clf = GridSearchCV(SVC(C=1), tuned_parameters, cv=5,\n",
    "                       scoring='%s_weighted' % score)\n",
    "    clf.fit(x_train, y_train)\n",
    "\n",
    "    print(\"Best parameters set found on development set:\")\n",
    "    print(clf.best_params_)\n",
    "    print(\"Grid scores on development set:\")\n",
    "    for params, mean_score, scores in clf.grid_scores_:\n",
    "        print(\"%0.3f (+/-%0.03f) for %r\"\n",
    "              % (mean_score, scores.std() * 2, params))\n",
    "\n",
    "    print(\"Detailed classification report:\")\n",
    "    print(\"The model is trained on the full development set.\")\n",
    "    print(\"The scores are computed on the full evaluation set.\")\n",
    "    y_true, y_pred = y_test, clf.predict(x_test)\n",
    "    print(classification_report(y_true, y_pred))\"\"\""
   ]
  }
 ],
 "metadata": {
  "kernelspec": {
   "display_name": "Python 2",
   "language": "python",
   "name": "python2"
  },
  "language_info": {
   "codemirror_mode": {
    "name": "ipython",
    "version": 2
   },
   "file_extension": ".py",
   "mimetype": "text/x-python",
   "name": "python",
   "nbconvert_exporter": "python",
   "pygments_lexer": "ipython2",
   "version": "2.7.10"
  }
 },
 "nbformat": 4,
 "nbformat_minor": 0
}
